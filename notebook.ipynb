{
 "cells": [
  {
   "cell_type": "markdown",
   "metadata": {},
   "source": [
    "# Database Midterm Notebook\n",
    "\n",
    "For this assignment i decided to use the `sqlite3` package built in to python because it is easier to run sql script files with it.\n",
    "\n",
    "Let's start by creating a connection to a local file:"
   ]
  },
  {
   "cell_type": "code",
   "execution_count": 15,
   "metadata": {},
   "outputs": [],
   "source": [
    "import sqlite3\n",
    "\n",
    "db = sqlite3.connect(\"my_db.sqlite\") # This creates the files if doesn't exist"
   ]
  },
  {
   "cell_type": "markdown",
   "metadata": {},
   "source": [
    "Now let's execute our sql script for creating tables:"
   ]
  },
  {
   "cell_type": "code",
   "execution_count": 16,
   "metadata": {},
   "outputs": [
    {
     "name": "stdout",
     "output_type": "stream",
     "text": [
      "[('Vehicles',), ('Maintenances',), ('Countries',), ('Officials',), ('Drivers',), ('Trips',)]\n"
     ]
    }
   ],
   "source": [
    "# Open file and run script\n",
    "with open(\"its_tables.sql\", \"r\") as file:\n",
    "    query = file.read()\n",
    "    db.executescript(query)\n",
    "\n",
    "# Show the list of tables\n",
    "cursor = db.cursor()\n",
    "cursor.execute(\"SELECT name FROM sqlite_master WHERE type='table';\")\n",
    "print(cursor.fetchall())"
   ]
  },
  {
   "cell_type": "markdown",
   "metadata": {},
   "source": [
    "Insert entries into the tables:"
   ]
  },
  {
   "cell_type": "code",
   "execution_count": 17,
   "metadata": {},
   "outputs": [],
   "source": [
    "# Open file and run script\n",
    "with open(\"its_insert.sql\", \"r\") as file:\n",
    "    query = file.read()\n",
    "    db.executescript(query)"
   ]
  },
  {
   "cell_type": "markdown",
   "metadata": {},
   "source": [
    "Now let's show the database tables:"
   ]
  },
  {
   "cell_type": "code",
   "execution_count": 19,
   "metadata": {},
   "outputs": [
    {
     "name": "stdout",
     "output_type": "stream",
     "text": [
      "[(1, 'V1000', '2001 ABC', 'Volvo', 'XC90 SE', 'Silver', 4350, 4, 1), (2, 'V1001', '2006 AFD', 'KIA', 'K7', 'Black', 2195, 4, 1)]\n",
      "[(1, '20120618 10:34:09 AM', 'M', 'Vehicle revision', 1)]\n",
      "[(1, 'France', 'FR')]\n",
      "[(1, 'Jean-Michel', 'Dupont', 'Baguette manager', 'FR', 1)]\n",
      "[(1, 'Fabien', 'Martins', 'ABCDEFGHIKLMNOP123', 'FR', 3)]\n",
      "[(1, '20120620 10:30:00 AM', '20120620 12:00:00 AM', 1, 1, 1, 4300, 4350)]\n"
     ]
    }
   ],
   "source": [
    "\n",
    "cursor = db.cursor()\n",
    "\n",
    "# Show Vehicles\n",
    "cursor.execute(\"SELECT * FROM Vehicles\")\n",
    "print(cursor.fetchall())\n",
    "\n",
    "# Show Maintenances\n",
    "cursor.execute(\"SELECT * FROM Maintenances\")\n",
    "print(cursor.fetchall())\n",
    "\n",
    "# Show Countries\n",
    "cursor.execute(\"SELECT * FROM Countries\")\n",
    "print(cursor.fetchall())\n",
    "\n",
    "# Show Officials\n",
    "cursor.execute(\"SELECT * FROM Officials\")\n",
    "print(cursor.fetchall())\n",
    "\n",
    "# Show Drivers\n",
    "cursor.execute(\"SELECT * FROM Drivers\")\n",
    "print(cursor.fetchall())\n",
    "\n",
    "# Show Trips\n",
    "cursor.execute(\"SELECT * FROM Trips\")\n",
    "print(cursor.fetchall())\n"
   ]
  }
 ],
 "metadata": {
  "kernelspec": {
   "display_name": "Python 3.8.10 64-bit",
   "language": "python",
   "name": "python3"
  },
  "language_info": {
   "codemirror_mode": {
    "name": "ipython",
    "version": 3
   },
   "file_extension": ".py",
   "mimetype": "text/x-python",
   "name": "python",
   "nbconvert_exporter": "python",
   "pygments_lexer": "ipython3",
   "version": "3.8.10"
  },
  "orig_nbformat": 4,
  "vscode": {
   "interpreter": {
    "hash": "916dbcbb3f70747c44a77c7bcd40155683ae19c65e1c03b4aa3499c5328201f1"
   }
  }
 },
 "nbformat": 4,
 "nbformat_minor": 2
}
